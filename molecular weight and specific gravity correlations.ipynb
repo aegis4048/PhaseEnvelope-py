{
 "cells": [
  {
   "cell_type": "code",
   "execution_count": 33,
   "id": "66cfcb36",
   "metadata": {},
   "outputs": [],
   "source": [
    "import tabula\n",
    "import numpy as np\n",
    "import pandas as pd\n",
    "import matplotlib.pyplot as plt\n",
    "from scipy.optimize import newton"
   ]
  },
  {
   "cell_type": "code",
   "execution_count": 18,
   "id": "6a33e008",
   "metadata": {},
   "outputs": [],
   "source": [
    "file = 'Riazi 2005 - Table 4-6.csv'\n",
    "df = pd.read_csv(file)"
   ]
  },
  {
   "cell_type": "code",
   "execution_count": 19,
   "id": "f6b5fd8b",
   "metadata": {},
   "outputs": [
    {
     "data": {
      "text/html": [
       "<div>\n",
       "<style scoped>\n",
       "    .dataframe tbody tr th:only-of-type {\n",
       "        vertical-align: middle;\n",
       "    }\n",
       "\n",
       "    .dataframe tbody tr th {\n",
       "        vertical-align: top;\n",
       "    }\n",
       "\n",
       "    .dataframe thead th {\n",
       "        text-align: right;\n",
       "    }\n",
       "</style>\n",
       "<table border=\"1\" class=\"dataframe\">\n",
       "  <thead>\n",
       "    <tr style=\"text-align: right;\">\n",
       "      <th></th>\n",
       "      <th>Carbon number</th>\n",
       "      <th>M</th>\n",
       "      <th>Tb</th>\n",
       "      <th>SG</th>\n",
       "      <th>7720</th>\n",
       "      <th>dzo</th>\n",
       "      <th>Tc</th>\n",
       "      <th>Pc</th>\n",
       "      <th>de</th>\n",
       "      <th>Zc</th>\n",
       "      <th>Zc .1</th>\n",
       "      <th>व</th>\n",
       "      <th>8</th>\n",
       "    </tr>\n",
       "  </thead>\n",
       "  <tbody>\n",
       "    <tr>\n",
       "      <th>0</th>\n",
       "      <td>6</td>\n",
       "      <td>84</td>\n",
       "      <td>337</td>\n",
       "      <td>0.690</td>\n",
       "      <td>1.395</td>\n",
       "      <td>0.686</td>\n",
       "      <td>510.3</td>\n",
       "      <td>34.4</td>\n",
       "      <td>0.241</td>\n",
       "      <td>0.275</td>\n",
       "      <td>0.255</td>\n",
       "      <td>18.6</td>\n",
       "      <td>7.25</td>\n",
       "    </tr>\n",
       "    <tr>\n",
       "      <th>1</th>\n",
       "      <td>7</td>\n",
       "      <td>95</td>\n",
       "      <td>365</td>\n",
       "      <td>0.727</td>\n",
       "      <td>1.407</td>\n",
       "      <td>0.723</td>\n",
       "      <td>542.6</td>\n",
       "      <td>31.6</td>\n",
       "      <td>0.245</td>\n",
       "      <td>0.272</td>\n",
       "      <td>0.303</td>\n",
       "      <td>21.2</td>\n",
       "      <td>7.41</td>\n",
       "    </tr>\n",
       "    <tr>\n",
       "      <th>2</th>\n",
       "      <td>8</td>\n",
       "      <td>107</td>\n",
       "      <td>390</td>\n",
       "      <td>0.749</td>\n",
       "      <td>1.417</td>\n",
       "      <td>0.743</td>\n",
       "      <td>570.2</td>\n",
       "      <td>29.3</td>\n",
       "      <td>0.246</td>\n",
       "      <td>0.269</td>\n",
       "      <td>0.346</td>\n",
       "      <td>23.0</td>\n",
       "      <td>7.53</td>\n",
       "    </tr>\n",
       "    <tr>\n",
       "      <th>3</th>\n",
       "      <td>9</td>\n",
       "      <td>121</td>\n",
       "      <td>416</td>\n",
       "      <td>0.768</td>\n",
       "      <td>1.426</td>\n",
       "      <td>0.762</td>\n",
       "      <td>599.0</td>\n",
       "      <td>26.9</td>\n",
       "      <td>0.247</td>\n",
       "      <td>0.265</td>\n",
       "      <td>0.394</td>\n",
       "      <td>24.4</td>\n",
       "      <td>7.63</td>\n",
       "    </tr>\n",
       "    <tr>\n",
       "      <th>4</th>\n",
       "      <td>10</td>\n",
       "      <td>136</td>\n",
       "      <td>440</td>\n",
       "      <td>0.782</td>\n",
       "      <td>1.435</td>\n",
       "      <td>0.777</td>\n",
       "      <td>623.7</td>\n",
       "      <td>25.0</td>\n",
       "      <td>0.251</td>\n",
       "      <td>0.261</td>\n",
       "      <td>0.444</td>\n",
       "      <td>25.4</td>\n",
       "      <td>7.71</td>\n",
       "    </tr>\n",
       "  </tbody>\n",
       "</table>\n",
       "</div>"
      ],
      "text/plain": [
       "   Carbon number    M   Tb     SG    7720   dzo     Tc    Pc     de     Zc   \\\n",
       "0               6   84  337  0.690  1.395  0.686  510.3  34.4  0.241  0.275   \n",
       "1               7   95  365  0.727  1.407  0.723  542.6  31.6  0.245  0.272   \n",
       "2               8  107  390  0.749  1.417  0.743  570.2  29.3  0.246  0.269   \n",
       "3               9  121  416  0.768  1.426  0.762  599.0  26.9  0.247  0.265   \n",
       "4              10  136  440  0.782  1.435  0.777  623.7  25.0  0.251  0.261   \n",
       "\n",
       "   Zc .1     व     8  \n",
       "0  0.255  18.6  7.25  \n",
       "1  0.303  21.2  7.41  \n",
       "2  0.346  23.0  7.53  \n",
       "3  0.394  24.4  7.63  \n",
       "4  0.444  25.4  7.71  "
      ]
     },
     "execution_count": 19,
     "metadata": {},
     "output_type": "execute_result"
    }
   ],
   "source": [
    "df.head()"
   ]
  },
  {
   "cell_type": "code",
   "execution_count": 113,
   "id": "ba054e43",
   "metadata": {},
   "outputs": [],
   "source": [
    "Cs = df['Carbon number '].values\n",
    "Ms = df['M '].values\n",
    "sgs = df['SG '].values"
   ]
  },
  {
   "cell_type": "code",
   "execution_count": 114,
   "id": "6ec201e3",
   "metadata": {},
   "outputs": [],
   "source": [
    "def obj_func_correlation_mw_sg_liq(mw, sg_liq):\n",
    "    \"\"\"\n",
    "    source: [2] (eq 3)\n",
    "    \"\"\"\n",
    "    return -sg_liq + 1.07 - np.exp(3.56073 - 2.93886 * mw ** 0.1)"
   ]
  },
  {
   "cell_type": "code",
   "execution_count": 115,
   "id": "840ce480",
   "metadata": {},
   "outputs": [],
   "source": [
    "def obj_func_correlation_mw_sg_liq(mw, sg_liq):\n",
    "    \"\"\"\n",
    "    source: [2] (eq 3)\n",
    "    \"\"\"\n",
    "    return -sg_liq + 0.85 - np.exp(92.22793 - 89.82301 * mw ** 0.1)"
   ]
  },
  {
   "cell_type": "code",
   "execution_count": 119,
   "id": "aa170e5b",
   "metadata": {},
   "outputs": [
    {
     "data": {
      "text/plain": [
       "array([ 84,  95, 107, 121, 136, 149, 163, 176, 191, 207, 221, 237, 249,\n",
       "       261, 275, 289, 303, 317, 331, 345, 359, 373, 387, 400, 415, 429,\n",
       "       443, 457, 471, 485, 499, 513, 528, 542, 556, 570, 584, 599, 614,\n",
       "       629, 641, 656, 670, 684, 698], dtype=int64)"
      ]
     },
     "execution_count": 119,
     "metadata": {},
     "output_type": "execute_result"
    }
   ],
   "source": [
    "Ms"
   ]
  },
  {
   "cell_type": "code",
   "execution_count": 123,
   "id": "dd818fa2",
   "metadata": {},
   "outputs": [
    {
     "data": {
      "text/plain": [
       "0.85"
      ]
     },
     "execution_count": 123,
     "metadata": {},
     "output_type": "execute_result"
    }
   ],
   "source": [
    "M = 300\n",
    "newton(lambda sg_liq: obj_func_correlation_mw_sg_liq(M, sg_liq), x0=0.8)"
   ]
  },
  {
   "cell_type": "code",
   "execution_count": 122,
   "id": "fb0b53b6",
   "metadata": {},
   "outputs": [
    {
     "data": {
      "text/plain": [
       "0.85"
      ]
     },
     "execution_count": 122,
     "metadata": {},
     "output_type": "execute_result"
    }
   ],
   "source": [
    "M = 107\n",
    "newton(lambda sg_liq: obj_func_correlation_mw_sg_liq(M, sg_liq), x0=0.8)"
   ]
  },
  {
   "cell_type": "code",
   "execution_count": null,
   "id": "694ddfcb",
   "metadata": {},
   "outputs": [],
   "source": []
  },
  {
   "cell_type": "code",
   "execution_count": null,
   "id": "b8b798f1",
   "metadata": {},
   "outputs": [],
   "source": []
  },
  {
   "cell_type": "code",
   "execution_count": 116,
   "id": "29704e67",
   "metadata": {},
   "outputs": [
    {
     "ename": "RuntimeError",
     "evalue": "Tolerance of 0.005100000000005878 reached. Failed to converge after 1 iterations, value is 50.005100000000006.",
     "output_type": "error",
     "traceback": [
      "\u001b[1;31m---------------------------------------------------------------------------\u001b[0m",
      "\u001b[1;31mRuntimeError\u001b[0m                              Traceback (most recent call last)",
      "\u001b[1;32m~\\AppData\\Local\\Temp\\ipykernel_26928\\1261552671.py\u001b[0m in \u001b[0;36m<module>\u001b[1;34m\u001b[0m\n\u001b[0;32m      1\u001b[0m \u001b[0mcorrelated_sg\u001b[0m \u001b[1;33m=\u001b[0m \u001b[0mnp\u001b[0m\u001b[1;33m.\u001b[0m\u001b[0marray\u001b[0m\u001b[1;33m(\u001b[0m\u001b[1;33m[\u001b[0m\u001b[0mnewton\u001b[0m\u001b[1;33m(\u001b[0m\u001b[1;32mlambda\u001b[0m \u001b[0msg_liq\u001b[0m\u001b[1;33m:\u001b[0m \u001b[0mobj_func_correlation_mw_sg_liq\u001b[0m\u001b[1;33m(\u001b[0m\u001b[0mM\u001b[0m\u001b[1;33m,\u001b[0m \u001b[0msg_liq\u001b[0m\u001b[1;33m)\u001b[0m\u001b[1;33m,\u001b[0m \u001b[0mx0\u001b[0m\u001b[1;33m=\u001b[0m\u001b[1;36m0.8\u001b[0m\u001b[1;33m)\u001b[0m \u001b[1;32mfor\u001b[0m \u001b[0mM\u001b[0m \u001b[1;32min\u001b[0m \u001b[0mMs\u001b[0m\u001b[1;33m]\u001b[0m\u001b[1;33m)\u001b[0m\u001b[1;33m\u001b[0m\u001b[1;33m\u001b[0m\u001b[0m\n\u001b[1;32m----> 2\u001b[1;33m \u001b[0mcorrelated_mw\u001b[0m \u001b[1;33m=\u001b[0m \u001b[0mnp\u001b[0m\u001b[1;33m.\u001b[0m\u001b[0marray\u001b[0m\u001b[1;33m(\u001b[0m\u001b[1;33m[\u001b[0m\u001b[0mnewton\u001b[0m\u001b[1;33m(\u001b[0m\u001b[1;32mlambda\u001b[0m \u001b[0mmw\u001b[0m\u001b[1;33m:\u001b[0m \u001b[0mobj_func_correlation_mw_sg_liq\u001b[0m\u001b[1;33m(\u001b[0m\u001b[0mmw\u001b[0m\u001b[1;33m,\u001b[0m \u001b[0msg_liq\u001b[0m\u001b[1;33m)\u001b[0m\u001b[1;33m,\u001b[0m \u001b[0mx0\u001b[0m\u001b[1;33m=\u001b[0m\u001b[1;36m50\u001b[0m\u001b[1;33m)\u001b[0m \u001b[1;32mfor\u001b[0m \u001b[0msg_liq\u001b[0m \u001b[1;32min\u001b[0m \u001b[0msg\u001b[0m\u001b[1;33m]\u001b[0m\u001b[1;33m)\u001b[0m\u001b[1;33m\u001b[0m\u001b[1;33m\u001b[0m\u001b[0m\n\u001b[0m",
      "\u001b[1;32m~\\AppData\\Local\\Temp\\ipykernel_26928\\1261552671.py\u001b[0m in \u001b[0;36m<listcomp>\u001b[1;34m(.0)\u001b[0m\n\u001b[0;32m      1\u001b[0m \u001b[0mcorrelated_sg\u001b[0m \u001b[1;33m=\u001b[0m \u001b[0mnp\u001b[0m\u001b[1;33m.\u001b[0m\u001b[0marray\u001b[0m\u001b[1;33m(\u001b[0m\u001b[1;33m[\u001b[0m\u001b[0mnewton\u001b[0m\u001b[1;33m(\u001b[0m\u001b[1;32mlambda\u001b[0m \u001b[0msg_liq\u001b[0m\u001b[1;33m:\u001b[0m \u001b[0mobj_func_correlation_mw_sg_liq\u001b[0m\u001b[1;33m(\u001b[0m\u001b[0mM\u001b[0m\u001b[1;33m,\u001b[0m \u001b[0msg_liq\u001b[0m\u001b[1;33m)\u001b[0m\u001b[1;33m,\u001b[0m \u001b[0mx0\u001b[0m\u001b[1;33m=\u001b[0m\u001b[1;36m0.8\u001b[0m\u001b[1;33m)\u001b[0m \u001b[1;32mfor\u001b[0m \u001b[0mM\u001b[0m \u001b[1;32min\u001b[0m \u001b[0mMs\u001b[0m\u001b[1;33m]\u001b[0m\u001b[1;33m)\u001b[0m\u001b[1;33m\u001b[0m\u001b[1;33m\u001b[0m\u001b[0m\n\u001b[1;32m----> 2\u001b[1;33m \u001b[0mcorrelated_mw\u001b[0m \u001b[1;33m=\u001b[0m \u001b[0mnp\u001b[0m\u001b[1;33m.\u001b[0m\u001b[0marray\u001b[0m\u001b[1;33m(\u001b[0m\u001b[1;33m[\u001b[0m\u001b[0mnewton\u001b[0m\u001b[1;33m(\u001b[0m\u001b[1;32mlambda\u001b[0m \u001b[0mmw\u001b[0m\u001b[1;33m:\u001b[0m \u001b[0mobj_func_correlation_mw_sg_liq\u001b[0m\u001b[1;33m(\u001b[0m\u001b[0mmw\u001b[0m\u001b[1;33m,\u001b[0m \u001b[0msg_liq\u001b[0m\u001b[1;33m)\u001b[0m\u001b[1;33m,\u001b[0m \u001b[0mx0\u001b[0m\u001b[1;33m=\u001b[0m\u001b[1;36m50\u001b[0m\u001b[1;33m)\u001b[0m \u001b[1;32mfor\u001b[0m \u001b[0msg_liq\u001b[0m \u001b[1;32min\u001b[0m \u001b[0msg\u001b[0m\u001b[1;33m]\u001b[0m\u001b[1;33m)\u001b[0m\u001b[1;33m\u001b[0m\u001b[1;33m\u001b[0m\u001b[0m\n\u001b[0m",
      "\u001b[1;32m~\\AppData\\Roaming\\Python\\Python39\\site-packages\\scipy-1.11.1-py3.9-win-amd64.egg\\scipy\\optimize\\_zeros_py.py\u001b[0m in \u001b[0;36mnewton\u001b[1;34m(func, x0, fprime, args, tol, maxiter, fprime2, x1, rtol, full_output, disp)\u001b[0m\n\u001b[0;32m    358\u001b[0m                             \u001b[1;34m\" Failed to converge after %d iterations, value is %s.\"\u001b[0m\u001b[1;33m\u001b[0m\u001b[1;33m\u001b[0m\u001b[0m\n\u001b[0;32m    359\u001b[0m                             % (itr + 1, p1))\n\u001b[1;32m--> 360\u001b[1;33m                         \u001b[1;32mraise\u001b[0m \u001b[0mRuntimeError\u001b[0m\u001b[1;33m(\u001b[0m\u001b[0mmsg\u001b[0m\u001b[1;33m)\u001b[0m\u001b[1;33m\u001b[0m\u001b[1;33m\u001b[0m\u001b[0m\n\u001b[0m\u001b[0;32m    361\u001b[0m                     \u001b[0mwarnings\u001b[0m\u001b[1;33m.\u001b[0m\u001b[0mwarn\u001b[0m\u001b[1;33m(\u001b[0m\u001b[0mmsg\u001b[0m\u001b[1;33m,\u001b[0m \u001b[0mRuntimeWarning\u001b[0m\u001b[1;33m)\u001b[0m\u001b[1;33m\u001b[0m\u001b[1;33m\u001b[0m\u001b[0m\n\u001b[0;32m    362\u001b[0m                 \u001b[0mp\u001b[0m \u001b[1;33m=\u001b[0m \u001b[1;33m(\u001b[0m\u001b[0mp1\u001b[0m \u001b[1;33m+\u001b[0m \u001b[0mp0\u001b[0m\u001b[1;33m)\u001b[0m \u001b[1;33m/\u001b[0m \u001b[1;36m2.0\u001b[0m\u001b[1;33m\u001b[0m\u001b[1;33m\u001b[0m\u001b[0m\n",
      "\u001b[1;31mRuntimeError\u001b[0m: Tolerance of 0.005100000000005878 reached. Failed to converge after 1 iterations, value is 50.005100000000006."
     ]
    }
   ],
   "source": [
    "correlated_sg = np.array([newton(lambda sg_liq: obj_func_correlation_mw_sg_liq(M, sg_liq), x0=0.8) for M in Ms])\n",
    "correlated_mw = np.array([newton(lambda mw: obj_func_correlation_mw_sg_liq(mw, sg_liq), x0=50) for sg_liq in sg])"
   ]
  },
  {
   "cell_type": "code",
   "execution_count": 118,
   "id": "63fde77a",
   "metadata": {},
   "outputs": [
    {
     "data": {
      "text/plain": [
       "array([0.85, 0.85, 0.85, 0.85, 0.85, 0.85, 0.85, 0.85, 0.85, 0.85, 0.85,\n",
       "       0.85, 0.85, 0.85, 0.85, 0.85, 0.85, 0.85, 0.85, 0.85, 0.85, 0.85,\n",
       "       0.85, 0.85, 0.85, 0.85, 0.85, 0.85, 0.85, 0.85, 0.85, 0.85, 0.85,\n",
       "       0.85, 0.85, 0.85, 0.85, 0.85, 0.85, 0.85, 0.85, 0.85, 0.85, 0.85,\n",
       "       0.85])"
      ]
     },
     "execution_count": 118,
     "metadata": {},
     "output_type": "execute_result"
    }
   ],
   "source": [
    "correlated_sg"
   ]
  },
  {
   "cell_type": "code",
   "execution_count": null,
   "id": "35c3e175",
   "metadata": {},
   "outputs": [],
   "source": []
  },
  {
   "cell_type": "code",
   "execution_count": null,
   "id": "b5193e24",
   "metadata": {},
   "outputs": [],
   "source": []
  },
  {
   "cell_type": "code",
   "execution_count": null,
   "id": "7f84e26e",
   "metadata": {},
   "outputs": [],
   "source": []
  },
  {
   "cell_type": "code",
   "execution_count": null,
   "id": "0dfbb9b7",
   "metadata": {},
   "outputs": [],
   "source": []
  },
  {
   "cell_type": "code",
   "execution_count": null,
   "id": "2b046539",
   "metadata": {},
   "outputs": [],
   "source": []
  },
  {
   "cell_type": "code",
   "execution_count": 105,
   "id": "d2dcb09f",
   "metadata": {},
   "outputs": [
    {
     "data": {
      "text/plain": [
       "array([ 75.43560628,  94.34717634, 108.7570579 , 123.73956285,\n",
       "       136.65302477, 148.13979287, 161.00779267, 175.4818034 ,\n",
       "       191.83402536, 208.60767666, 221.59585706, 237.87387779,\n",
       "       248.91383744, 260.69037331, 273.26961337, 286.72528975,\n",
       "       301.13981919, 316.60556847, 329.80437501, 340.22377658,\n",
       "       354.86168231, 370.41622284, 382.73012083, 395.63904378,\n",
       "       409.18180175, 428.2979626 , 443.48941891, 459.46941631,\n",
       "       470.58802871, 488.00802721, 500.1437875 , 519.18223492,\n",
       "       532.46325016, 546.24281641, 560.54627829, 575.40062925,\n",
       "       583.04330665, 598.77853845, 615.14025364, 632.16234164,\n",
       "       640.93225351, 659.01364164, 668.33515211, 687.56623534,\n",
       "       697.48695041])"
      ]
     },
     "execution_count": 105,
     "metadata": {},
     "output_type": "execute_result"
    }
   ],
   "source": [
    "correlated_mw"
   ]
  },
  {
   "cell_type": "code",
   "execution_count": 106,
   "id": "aa24b1f6",
   "metadata": {},
   "outputs": [
    {
     "data": {
      "text/plain": [
       "array([ 84,  95, 107, 121, 136, 149, 163, 176, 191, 207, 221, 237, 249,\n",
       "       261, 275, 289, 303, 317, 331, 345, 359, 373, 387, 400, 415, 429,\n",
       "       443, 457, 471, 485, 499, 513, 528, 542, 556, 570, 584, 599, 614,\n",
       "       629, 641, 656, 670, 684, 698], dtype=int64)"
      ]
     },
     "execution_count": 106,
     "metadata": {},
     "output_type": "execute_result"
    }
   ],
   "source": [
    "Ms"
   ]
  },
  {
   "cell_type": "code",
   "execution_count": 107,
   "id": "fbfea2f4",
   "metadata": {},
   "outputs": [
    {
     "data": {
      "text/plain": [
       "0.8979761904761906"
      ]
     },
     "execution_count": 107,
     "metadata": {},
     "output_type": "execute_result"
    }
   ],
   "source": [
    "75.43 / 84"
   ]
  },
  {
   "cell_type": "code",
   "execution_count": null,
   "id": "dc65059d",
   "metadata": {},
   "outputs": [],
   "source": []
  },
  {
   "cell_type": "code",
   "execution_count": null,
   "id": "522e03e5",
   "metadata": {},
   "outputs": [],
   "source": []
  },
  {
   "cell_type": "code",
   "execution_count": 104,
   "id": "a16c04fb",
   "metadata": {},
   "outputs": [
    {
     "data": {
      "image/png": "[encoded data removed]",
      "text/plain": [
       "<Figure size 800x400 with 2 Axes>"
      ]
     },
     "metadata": {},
     "output_type": "display_data"
    }
   ],
   "source": [
    "fig, axes = plt.subplots(1, 2, figsize=(8, 4))\n",
    "\n",
    "axes[0].plot(Cs, correlated_mw, color='red', label='MW derived from SG')\n",
    "axes[0].scatter(Cs, Ms, s=10)\n",
    "axes[0].set_ylabel('Molecular Weight')\n",
    "axes[0].set_xlim(None, 55)\n",
    "axes[0].set_ylim(None, 800)\n",
    "\n",
    "axes[1].plot(Cs, correlated_sg, color='red', label='SG derived from MW')\n",
    "axes[1].scatter(Cs, sgs, s=10)\n",
    "axes[1].set_ylabel('Specific Gravity')\n",
    "axes[1].set_xlim(0, 55)\n",
    "axes[1].set_ylim(None, 0.95)\n",
    "\n",
    "\n",
    "for ax in axes:\n",
    "    ax.set_xlabel('Carbon Number')\n",
    "    ax.grid(axis='y', linestyle='--', alpha=0.5)\n",
    "    ax.spines['top'].set_visible(False)\n",
    "    ax.spines['right'].set_visible(False)\n",
    "    ax.legend(ncol=2, fontsize=8, loc='upper left')\n",
    "    \n",
    "def setbold(txt):\n",
    "    return ' '.join([r\"$\\bf{\" + item + \"}$\" for item in txt.split(' ')])\n",
    "\n",
    "bold_txt = setbold('Carbon Number Groups vs. Molecular Weight')\n",
    "plain_txt = r', correlation model performance evaluation'\n",
    "#plain_txt = r', '\n",
    "fig.suptitle(bold_txt + plain_txt, verticalalignment='top', x=0, horizontalalignment='left', fontsize=11)\n",
    "yloc = 0.9\n",
    "ax.annotate('', xy=(0.01, yloc + 0.01), xycoords='figure fraction', xytext=(1.02, yloc + 0.01),\n",
    "            arrowprops=dict(arrowstyle=\"-\", color='k', lw=0.7))\n",
    "\n",
    "\n",
    "#ax.minorticks_on()\n",
    "#ax.grid(axis='y', which='minor', color='grey', linestyle='--', alpha=0.2)\n",
    "\n",
    "fig.tight_layout()"
   ]
  },
  {
   "cell_type": "code",
   "execution_count": null,
   "id": "b7e73198",
   "metadata": {},
   "outputs": [],
   "source": []
  },
  {
   "cell_type": "code",
   "execution_count": null,
   "id": "b0bb9786",
   "metadata": {},
   "outputs": [],
   "source": []
  },
  {
   "cell_type": "code",
   "execution_count": null,
   "id": "20ff547f",
   "metadata": {},
   "outputs": [],
   "source": []
  },
  {
   "cell_type": "code",
   "execution_count": null,
   "id": "74f6e6c1",
   "metadata": {},
   "outputs": [],
   "source": []
  }
 ],
 "metadata": {
  "kernelspec": {
   "display_name": "Python 3 (ipykernel)",
   "language": "python",
   "name": "python3"
  },
  "language_info": {
   "codemirror_mode": {
    "name": "ipython",
    "version": 3
   },
   "file_extension": ".py",
   "mimetype": "text/x-python",
   "name": "python",
   "nbconvert_exporter": "python",
   "pygments_lexer": "ipython3",
   "version": "3.9.13"
  }
 },
 "nbformat": 4,
 "nbformat_minor": 5
}
